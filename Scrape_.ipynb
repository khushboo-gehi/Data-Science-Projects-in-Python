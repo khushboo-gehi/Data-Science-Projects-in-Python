{
  "nbformat": 4,
  "nbformat_minor": 0,
  "metadata": {
    "colab": {
      "name": "Scrape_.ipynb",
      "provenance": [],
      "authorship_tag": "ABX9TyPBd6tGYp5yX0uu4k6+H7IE",
      "include_colab_link": true
    },
    "kernelspec": {
      "name": "python3",
      "display_name": "Python 3"
    },
    "language_info": {
      "name": "python"
    }
  },
  "cells": [
    {
      "cell_type": "markdown",
      "metadata": {
        "id": "view-in-github",
        "colab_type": "text"
      },
      "source": [
        "<a href=\"https://colab.research.google.com/github/khushboo-gehi/Py-ML-DL/blob/main/Scrape_.ipynb\" target=\"_parent\"><img src=\"https://colab.research.google.com/assets/colab-badge.svg\" alt=\"Open In Colab\"/></a>"
      ]
    },
    {
      "cell_type": "code",
      "execution_count": 11,
      "metadata": {
        "id": "JqkWGlI-_MUH"
      },
      "outputs": [],
      "source": [
        "import requests\n",
        "from bs4 import BeautifulSoup\n",
        "\n",
        "base_site = \"https://www.linkedin.com/newsletters/ai-and-data-science-usecases-6877830316791226368/\"\n",
        "\n",
        "response = requests.get(base_site)\n",
        "response.status_code\n",
        "\n",
        "html = response.content\n",
        "\n",
        "soup = BeautifulSoup(html, \"html.parser\")\n",
        "\n",
        "# Exporting the HTML to a file\n",
        "with open('newsletter.html', 'wb') as file:\n",
        "    file.write(soup.prettify('utf-8'))"
      ]
    },
    {
      "cell_type": "code",
      "source": [
        "links = soup.find_all('a')"
      ],
      "metadata": {
        "id": "R5SP_ZPZ_12D"
      },
      "execution_count": 12,
      "outputs": []
    },
    {
      "cell_type": "code",
      "source": [
        "#Extract data from nested tags\n",
        "div_links = soup.find_all(\"div\")\n",
        "\n",
        "nested_links = []\n",
        "\n",
        "for div in div_links:\n",
        "    anchors = div.find_all('a')\n",
        "    \n",
        "    # Need to add every link from anchors to div_links\n",
        "    for a in anchors:\n",
        "        nested_links.append(a)\n",
        "\n"
      ],
      "metadata": {
        "id": "S5uckokJ_8Od"
      },
      "execution_count": 13,
      "outputs": []
    },
    {
      "cell_type": "code",
      "source": [
        "len(nested_links)"
      ],
      "metadata": {
        "colab": {
          "base_uri": "https://localhost:8080/"
        },
        "id": "lvlITQ1ZDs8W",
        "outputId": "d0907f32-f02f-464e-d11b-b44792c22da0"
      },
      "execution_count": 14,
      "outputs": [
        {
          "output_type": "execute_result",
          "data": {
            "text/plain": [
              "77"
            ]
          },
          "metadata": {},
          "execution_count": 14
        }
      ]
    },
    {
      "cell_type": "code",
      "source": [
        "from urllib.parse import urljoin\n",
        "div_urls = [urljoin(base_site, l.get('href')) for l in nested_links]\n",
        "div_urls"
      ],
      "metadata": {
        "colab": {
          "base_uri": "https://localhost:8080/"
        },
        "id": "88LsxYx3Dxhc",
        "outputId": "46788cbf-0689-49c5-e27a-0d757bbee46a"
      },
      "execution_count": 16,
      "outputs": [
        {
          "output_type": "execute_result",
          "data": {
            "text/plain": [
              "['https://www.linkedin.com/signup/cold-join?trk=news-guest_nav-header-join',\n",
              " 'https://www.linkedin.com/uas/login?fromSignIn=true&trk=news-guest_nav-header-signin',\n",
              " 'https://www.linkedin.com/signup/cold-join?session_redirect=https%3A%2F%2Fwww%2Elinkedin%2Ecom%2Fnewsletters%2Fai-and-data-science-usecases-6877830316791226368&trk=news-guest_top-card-primary-button',\n",
              " 'https://www.linkedin.com/signup/cold-join?session_redirect=https%3A%2F%2Fwww%2Elinkedin%2Ecom%2Fnewsletters%2Fai-and-data-science-usecases-6877830316791226368&trk=news-guest_ellipsis-menu-sign-in-redirect',\n",
              " 'https://www.linkedin.com/signup/cold-join?session_redirect=https%3A%2F%2Fwww%2Elinkedin%2Ecom%2Fnewsletters%2Fai-and-data-science-usecases-6877830316791226368&trk=news-guest_top-card-primary-button',\n",
              " 'https://www.linkedin.com/signup/cold-join?session_redirect=https%3A%2F%2Fwww%2Elinkedin%2Ecom%2Fnewsletters%2Fai-and-data-science-usecases-6877830316791226368&trk=news-guest_top-card-primary-button',\n",
              " 'https://www.linkedin.com/signup/cold-join?session_redirect=https%3A%2F%2Fwww%2Elinkedin%2Ecom%2Fnewsletters%2Fai-and-data-science-usecases-6877830316791226368&trk=news-guest_top-card-primary-button',\n",
              " 'https://www.linkedin.com/signup/cold-join?session_redirect=https%3A%2F%2Fwww%2Elinkedin%2Ecom%2Fnewsletters%2Fai-and-data-science-usecases-6877830316791226368&trk=news-guest_ellipsis-menu-sign-in-redirect',\n",
              " 'https://www.linkedin.com/signup/cold-join?session_redirect=https%3A%2F%2Fwww%2Elinkedin%2Ecom%2Fnewsletters%2Fai-and-data-science-usecases-6877830316791226368&trk=news-guest_ellipsis-menu-sign-in-redirect',\n",
              " 'https://www.linkedin.com/signup/cold-join?session_redirect=https%3A%2F%2Fwww%2Elinkedin%2Ecom%2Fnewsletters%2Fai-and-data-science-usecases-6877830316791226368&trk=news-guest_share-update_ellipsis-menu-sign-in-redirect',\n",
              " 'https://www.linkedin.com/pulse/not-so-perfect-chatbot-khushboo-gehi?trk=news-guest_share-article_title',\n",
              " 'https://www.linkedin.com/signup/cold-join?session_redirect=https%3A%2F%2Fwww%2Elinkedin%2Ecom%2Fnewsletters%2Fai-and-data-science-usecases-6877830316791226368&trk=news-guest_share-update_likes-text',\n",
              " 'https://www.linkedin.com/signup/cold-join?session_redirect=https%3A%2F%2Fwww%2Elinkedin%2Ecom%2Fnewsletters%2Fai-and-data-science-usecases-6877830316791226368&trk=news-guest_share-update_like-cta',\n",
              " 'https://www.linkedin.com/signup/cold-join?session_redirect=https%3A%2F%2Fwww%2Elinkedin%2Ecom%2Fnewsletters%2Fai-and-data-science-usecases-6877830316791226368&trk=news-guest_share-update_comment-cta',\n",
              " 'https://www.linkedin.com/signup/cold-join?session_redirect=https%3A%2F%2Fwww%2Elinkedin%2Ecom%2Fnewsletters%2Fai-and-data-science-usecases-6877830316791226368&trk=news-guest_share-update_share-cta',\n",
              " 'https://www.linkedin.com/signup/cold-join?session_redirect=https%3A%2F%2Fwww%2Elinkedin%2Ecom%2Fnewsletters%2Fai-and-data-science-usecases-6877830316791226368&trk=news-guest_share-update_ellipsis-menu-sign-in-redirect',\n",
              " 'https://www.linkedin.com/signup/cold-join?session_redirect=https%3A%2F%2Fwww%2Elinkedin%2Ecom%2Fnewsletters%2Fai-and-data-science-usecases-6877830316791226368&trk=news-guest_share-update_ellipsis-menu-sign-in-redirect',\n",
              " 'https://www.linkedin.com/pulse/not-so-perfect-chatbot-khushboo-gehi?trk=news-guest_share-article_title',\n",
              " 'https://www.linkedin.com/signup/cold-join?session_redirect=https%3A%2F%2Fwww%2Elinkedin%2Ecom%2Fnewsletters%2Fai-and-data-science-usecases-6877830316791226368&trk=news-guest_share-update_likes-text',\n",
              " 'https://www.linkedin.com/signup/cold-join?session_redirect=https%3A%2F%2Fwww%2Elinkedin%2Ecom%2Fnewsletters%2Fai-and-data-science-usecases-6877830316791226368&trk=news-guest_share-update_like-cta',\n",
              " 'https://www.linkedin.com/signup/cold-join?session_redirect=https%3A%2F%2Fwww%2Elinkedin%2Ecom%2Fnewsletters%2Fai-and-data-science-usecases-6877830316791226368&trk=news-guest_share-update_comment-cta',\n",
              " 'https://www.linkedin.com/signup/cold-join?session_redirect=https%3A%2F%2Fwww%2Elinkedin%2Ecom%2Fnewsletters%2Fai-and-data-science-usecases-6877830316791226368&trk=news-guest_share-update_share-cta',\n",
              " 'https://www.linkedin.com/signup/cold-join?session_redirect=https%3A%2F%2Fwww%2Elinkedin%2Ecom%2Fnewsletters%2Fai-and-data-science-usecases-6877830316791226368&trk=news-guest_share-update_ellipsis-menu-sign-in-redirect',\n",
              " 'https://www.linkedin.com/pulse/basic-face-detection-khushboo-gehi?trk=news-guest_share-article_title',\n",
              " 'https://www.linkedin.com/signup/cold-join?session_redirect=https%3A%2F%2Fwww%2Elinkedin%2Ecom%2Fnewsletters%2Fai-and-data-science-usecases-6877830316791226368&trk=news-guest_share-update_likes-text',\n",
              " 'https://www.linkedin.com/signup/cold-join?session_redirect=https%3A%2F%2Fwww%2Elinkedin%2Ecom%2Fnewsletters%2Fai-and-data-science-usecases-6877830316791226368&trk=news-guest_share-update_like-cta',\n",
              " 'https://www.linkedin.com/signup/cold-join?session_redirect=https%3A%2F%2Fwww%2Elinkedin%2Ecom%2Fnewsletters%2Fai-and-data-science-usecases-6877830316791226368&trk=news-guest_share-update_comment-cta',\n",
              " 'https://www.linkedin.com/signup/cold-join?session_redirect=https%3A%2F%2Fwww%2Elinkedin%2Ecom%2Fnewsletters%2Fai-and-data-science-usecases-6877830316791226368&trk=news-guest_share-update_share-cta',\n",
              " 'https://www.linkedin.com/signup/cold-join?session_redirect=https%3A%2F%2Fwww%2Elinkedin%2Ecom%2Fnewsletters%2Fai-and-data-science-usecases-6877830316791226368&trk=news-guest_share-update_ellipsis-menu-sign-in-redirect',\n",
              " 'https://www.linkedin.com/signup/cold-join?session_redirect=https%3A%2F%2Fwww%2Elinkedin%2Ecom%2Fnewsletters%2Fai-and-data-science-usecases-6877830316791226368&trk=news-guest_share-update_ellipsis-menu-sign-in-redirect',\n",
              " 'https://www.linkedin.com/pulse/basic-face-detection-khushboo-gehi?trk=news-guest_share-article_title',\n",
              " 'https://www.linkedin.com/signup/cold-join?session_redirect=https%3A%2F%2Fwww%2Elinkedin%2Ecom%2Fnewsletters%2Fai-and-data-science-usecases-6877830316791226368&trk=news-guest_share-update_likes-text',\n",
              " 'https://www.linkedin.com/signup/cold-join?session_redirect=https%3A%2F%2Fwww%2Elinkedin%2Ecom%2Fnewsletters%2Fai-and-data-science-usecases-6877830316791226368&trk=news-guest_share-update_like-cta',\n",
              " 'https://www.linkedin.com/signup/cold-join?session_redirect=https%3A%2F%2Fwww%2Elinkedin%2Ecom%2Fnewsletters%2Fai-and-data-science-usecases-6877830316791226368&trk=news-guest_share-update_comment-cta',\n",
              " 'https://www.linkedin.com/signup/cold-join?session_redirect=https%3A%2F%2Fwww%2Elinkedin%2Ecom%2Fnewsletters%2Fai-and-data-science-usecases-6877830316791226368&trk=news-guest_share-update_share-cta',\n",
              " 'https://www.linkedin.com/signup/cold-join?session_redirect=https%3A%2F%2Fwww%2Elinkedin%2Ecom%2Fnewsletters%2Fai-and-data-science-usecases-6877830316791226368&trk=news-guest_share-update_ellipsis-menu-sign-in-redirect',\n",
              " 'https://www.linkedin.com/pulse/time-series-analysis-using-cnns-khushboo-gehi?trk=news-guest_share-article_title',\n",
              " 'https://www.linkedin.com/signup/cold-join?session_redirect=https%3A%2F%2Fwww%2Elinkedin%2Ecom%2Fnewsletters%2Fai-and-data-science-usecases-6877830316791226368&trk=news-guest_share-update_like-cta',\n",
              " 'https://www.linkedin.com/signup/cold-join?session_redirect=https%3A%2F%2Fwww%2Elinkedin%2Ecom%2Fnewsletters%2Fai-and-data-science-usecases-6877830316791226368&trk=news-guest_share-update_comment-cta',\n",
              " 'https://www.linkedin.com/signup/cold-join?session_redirect=https%3A%2F%2Fwww%2Elinkedin%2Ecom%2Fnewsletters%2Fai-and-data-science-usecases-6877830316791226368&trk=news-guest_share-update_share-cta',\n",
              " 'https://www.linkedin.com/signup/cold-join?session_redirect=https%3A%2F%2Fwww%2Elinkedin%2Ecom%2Fnewsletters%2Fai-and-data-science-usecases-6877830316791226368&trk=news-guest_share-update_ellipsis-menu-sign-in-redirect',\n",
              " 'https://www.linkedin.com/signup/cold-join?session_redirect=https%3A%2F%2Fwww%2Elinkedin%2Ecom%2Fnewsletters%2Fai-and-data-science-usecases-6877830316791226368&trk=news-guest_share-update_ellipsis-menu-sign-in-redirect',\n",
              " 'https://www.linkedin.com/pulse/time-series-analysis-using-cnns-khushboo-gehi?trk=news-guest_share-article_title',\n",
              " 'https://www.linkedin.com/signup/cold-join?session_redirect=https%3A%2F%2Fwww%2Elinkedin%2Ecom%2Fnewsletters%2Fai-and-data-science-usecases-6877830316791226368&trk=news-guest_share-update_like-cta',\n",
              " 'https://www.linkedin.com/signup/cold-join?session_redirect=https%3A%2F%2Fwww%2Elinkedin%2Ecom%2Fnewsletters%2Fai-and-data-science-usecases-6877830316791226368&trk=news-guest_share-update_comment-cta',\n",
              " 'https://www.linkedin.com/signup/cold-join?session_redirect=https%3A%2F%2Fwww%2Elinkedin%2Ecom%2Fnewsletters%2Fai-and-data-science-usecases-6877830316791226368&trk=news-guest_share-update_share-cta',\n",
              " 'https://www.linkedin.com/signup/cold-join?session_redirect=https%3A%2F%2Fwww%2Elinkedin%2Ecom%2Fnewsletters%2Fai-and-data-science-usecases-6877830316791226368&trk=news-guest_share-update_ellipsis-menu-sign-in-redirect',\n",
              " 'https://www.linkedin.com/pulse/using-lstm-navigate-robots-khushboo-gehi?trk=news-guest_share-article_title',\n",
              " 'https://www.linkedin.com/signup/cold-join?session_redirect=https%3A%2F%2Fwww%2Elinkedin%2Ecom%2Fnewsletters%2Fai-and-data-science-usecases-6877830316791226368&trk=news-guest_share-update_likes-text',\n",
              " 'https://www.linkedin.com/signup/cold-join?session_redirect=https%3A%2F%2Fwww%2Elinkedin%2Ecom%2Fnewsletters%2Fai-and-data-science-usecases-6877830316791226368&trk=news-guest_share-update_like-cta',\n",
              " 'https://www.linkedin.com/signup/cold-join?session_redirect=https%3A%2F%2Fwww%2Elinkedin%2Ecom%2Fnewsletters%2Fai-and-data-science-usecases-6877830316791226368&trk=news-guest_share-update_comment-cta',\n",
              " 'https://www.linkedin.com/signup/cold-join?session_redirect=https%3A%2F%2Fwww%2Elinkedin%2Ecom%2Fnewsletters%2Fai-and-data-science-usecases-6877830316791226368&trk=news-guest_share-update_share-cta',\n",
              " 'https://www.linkedin.com/signup/cold-join?session_redirect=https%3A%2F%2Fwww%2Elinkedin%2Ecom%2Fnewsletters%2Fai-and-data-science-usecases-6877830316791226368&trk=news-guest_share-update_ellipsis-menu-sign-in-redirect',\n",
              " 'https://www.linkedin.com/signup/cold-join?session_redirect=https%3A%2F%2Fwww%2Elinkedin%2Ecom%2Fnewsletters%2Fai-and-data-science-usecases-6877830316791226368&trk=news-guest_share-update_ellipsis-menu-sign-in-redirect',\n",
              " 'https://www.linkedin.com/pulse/using-lstm-navigate-robots-khushboo-gehi?trk=news-guest_share-article_title',\n",
              " 'https://www.linkedin.com/signup/cold-join?session_redirect=https%3A%2F%2Fwww%2Elinkedin%2Ecom%2Fnewsletters%2Fai-and-data-science-usecases-6877830316791226368&trk=news-guest_share-update_likes-text',\n",
              " 'https://www.linkedin.com/signup/cold-join?session_redirect=https%3A%2F%2Fwww%2Elinkedin%2Ecom%2Fnewsletters%2Fai-and-data-science-usecases-6877830316791226368&trk=news-guest_share-update_like-cta',\n",
              " 'https://www.linkedin.com/signup/cold-join?session_redirect=https%3A%2F%2Fwww%2Elinkedin%2Ecom%2Fnewsletters%2Fai-and-data-science-usecases-6877830316791226368&trk=news-guest_share-update_comment-cta',\n",
              " 'https://www.linkedin.com/signup/cold-join?session_redirect=https%3A%2F%2Fwww%2Elinkedin%2Ecom%2Fnewsletters%2Fai-and-data-science-usecases-6877830316791226368&trk=news-guest_share-update_share-cta',\n",
              " 'https://www.linkedin.com/signup/cold-join?session_redirect=https%3A%2F%2Fwww%2Elinkedin%2Ecom%2Fnewsletters%2Fai-and-data-science-usecases-6877830316791226368&trk=news-guest_share-update_ellipsis-menu-sign-in-redirect',\n",
              " 'https://www.linkedin.com/pulse/churn-prediction-using-deep-neural-network-khushboo-gehi?trk=news-guest_share-article_title',\n",
              " 'https://www.linkedin.com/signup/cold-join?session_redirect=https%3A%2F%2Fwww%2Elinkedin%2Ecom%2Fnewsletters%2Fai-and-data-science-usecases-6877830316791226368&trk=news-guest_share-update_likes-text',\n",
              " 'https://www.linkedin.com/signup/cold-join?session_redirect=https%3A%2F%2Fwww%2Elinkedin%2Ecom%2Fnewsletters%2Fai-and-data-science-usecases-6877830316791226368&trk=news-guest_share-update_comments-text',\n",
              " 'https://www.linkedin.com/signup/cold-join?session_redirect=https%3A%2F%2Fwww%2Elinkedin%2Ecom%2Fnewsletters%2Fai-and-data-science-usecases-6877830316791226368&trk=news-guest_share-update_like-cta',\n",
              " 'https://www.linkedin.com/signup/cold-join?session_redirect=https%3A%2F%2Fwww%2Elinkedin%2Ecom%2Fnewsletters%2Fai-and-data-science-usecases-6877830316791226368&trk=news-guest_share-update_comment-cta',\n",
              " 'https://www.linkedin.com/signup/cold-join?session_redirect=https%3A%2F%2Fwww%2Elinkedin%2Ecom%2Fnewsletters%2Fai-and-data-science-usecases-6877830316791226368&trk=news-guest_share-update_share-cta',\n",
              " 'https://www.linkedin.com/signup/cold-join?session_redirect=https%3A%2F%2Fwww%2Elinkedin%2Ecom%2Fnewsletters%2Fai-and-data-science-usecases-6877830316791226368&trk=news-guest_share-update_ellipsis-menu-sign-in-redirect',\n",
              " 'https://www.linkedin.com/signup/cold-join?session_redirect=https%3A%2F%2Fwww%2Elinkedin%2Ecom%2Fnewsletters%2Fai-and-data-science-usecases-6877830316791226368&trk=news-guest_share-update_ellipsis-menu-sign-in-redirect',\n",
              " 'https://www.linkedin.com/pulse/churn-prediction-using-deep-neural-network-khushboo-gehi?trk=news-guest_share-article_title',\n",
              " 'https://www.linkedin.com/signup/cold-join?session_redirect=https%3A%2F%2Fwww%2Elinkedin%2Ecom%2Fnewsletters%2Fai-and-data-science-usecases-6877830316791226368&trk=news-guest_share-update_likes-text',\n",
              " 'https://www.linkedin.com/signup/cold-join?session_redirect=https%3A%2F%2Fwww%2Elinkedin%2Ecom%2Fnewsletters%2Fai-and-data-science-usecases-6877830316791226368&trk=news-guest_share-update_comments-text',\n",
              " 'https://www.linkedin.com/signup/cold-join?session_redirect=https%3A%2F%2Fwww%2Elinkedin%2Ecom%2Fnewsletters%2Fai-and-data-science-usecases-6877830316791226368&trk=news-guest_share-update_like-cta',\n",
              " 'https://www.linkedin.com/signup/cold-join?session_redirect=https%3A%2F%2Fwww%2Elinkedin%2Ecom%2Fnewsletters%2Fai-and-data-science-usecases-6877830316791226368&trk=news-guest_share-update_comment-cta',\n",
              " 'https://www.linkedin.com/signup/cold-join?session_redirect=https%3A%2F%2Fwww%2Elinkedin%2Ecom%2Fnewsletters%2Fai-and-data-science-usecases-6877830316791226368&trk=news-guest_share-update_share-cta',\n",
              " 'https://www.linkedin.com/pulse/staff-absence-analysis-using-logistic-regression-khushboo-gehi?trk=news-guest_result-card_subtitle-click',\n",
              " 'https://www.linkedin.com/pulse/visual-representation-topic-clusters-part-2-khushboo-gehi?trk=news-guest_result-card_subtitle-click',\n",
              " 'https://www.linkedin.com/pulse/visual-representation-topic-clusters-part-1-khushboo-gehi?trk=news-guest_result-card_subtitle-click']"
            ]
          },
          "metadata": {},
          "execution_count": 16
        }
      ]
    },
    {
      "cell_type": "code",
      "source": [
        "paragraph = []\n",
        "\n",
        "\n",
        "# creating a loop counter\n",
        "i = 0\n",
        "\n",
        "# Loop through each URL in note_urls\n",
        "for url in div_urls:\n",
        "    \n",
        "    # connect to every webpage\n",
        "    url_respon = requests.get(url)\n",
        "    \n",
        "    # checking if the request is successful\n",
        "    if url_respon.status_code == 200:            # Everything is OK!\n",
        "        print('URL #{0}: {1}'.format(i+1,url))    # print out the number of iteration and the URL to keep track of place in loop\n",
        "    \n",
        "    else:                                       # Something is wrong!\n",
        "        print('Status code {0}: Skipping URL #{1}: {2}'.format(url_respon.status_code, i+1, url))\n",
        "        i = i+1\n",
        "        continue\n",
        "        \n",
        "    \n",
        "    # get HTML from webpage\n",
        "    url_html = url_respon.content\n",
        "    \n",
        "    # convert HTML to BeautifulSoup object\n",
        "    url_soup = BeautifulSoup(url_html, 'lxml')\n",
        "    \n",
        "    # find all \"p\" tags on the webpage\n",
        "    para = url_soup.find_all(\"p\")\n",
        "    \n",
        "    # Get the text from each \"p\" tag\n",
        "    text = [p.text for p in para]\n",
        "    \n",
        "    # Append text from each \"p\" tag to list\n",
        "    paragraph.append(text)\n",
        "    \n",
        "    # Incrementing the loop counter\n",
        "    i = i+1"
      ],
      "metadata": {
        "colab": {
          "base_uri": "https://localhost:8080/"
        },
        "id": "ncSvuDCzEAy7",
        "outputId": "2b4e791f-0463-4644-a384-1439be980b09"
      },
      "execution_count": 24,
      "outputs": [
        {
          "output_type": "stream",
          "name": "stdout",
          "text": [
            "URL #1: https://www.linkedin.com/signup/cold-join?trk=news-guest_nav-header-join\n",
            "URL #2: https://www.linkedin.com/uas/login?fromSignIn=true&trk=news-guest_nav-header-signin\n",
            "URL #3: https://www.linkedin.com/signup/cold-join?session_redirect=https%3A%2F%2Fwww%2Elinkedin%2Ecom%2Fnewsletters%2Fai-and-data-science-usecases-6877830316791226368&trk=news-guest_top-card-primary-button\n",
            "URL #4: https://www.linkedin.com/signup/cold-join?session_redirect=https%3A%2F%2Fwww%2Elinkedin%2Ecom%2Fnewsletters%2Fai-and-data-science-usecases-6877830316791226368&trk=news-guest_ellipsis-menu-sign-in-redirect\n",
            "URL #5: https://www.linkedin.com/signup/cold-join?session_redirect=https%3A%2F%2Fwww%2Elinkedin%2Ecom%2Fnewsletters%2Fai-and-data-science-usecases-6877830316791226368&trk=news-guest_top-card-primary-button\n",
            "URL #6: https://www.linkedin.com/signup/cold-join?session_redirect=https%3A%2F%2Fwww%2Elinkedin%2Ecom%2Fnewsletters%2Fai-and-data-science-usecases-6877830316791226368&trk=news-guest_top-card-primary-button\n",
            "URL #7: https://www.linkedin.com/signup/cold-join?session_redirect=https%3A%2F%2Fwww%2Elinkedin%2Ecom%2Fnewsletters%2Fai-and-data-science-usecases-6877830316791226368&trk=news-guest_top-card-primary-button\n",
            "URL #8: https://www.linkedin.com/signup/cold-join?session_redirect=https%3A%2F%2Fwww%2Elinkedin%2Ecom%2Fnewsletters%2Fai-and-data-science-usecases-6877830316791226368&trk=news-guest_ellipsis-menu-sign-in-redirect\n",
            "URL #9: https://www.linkedin.com/signup/cold-join?session_redirect=https%3A%2F%2Fwww%2Elinkedin%2Ecom%2Fnewsletters%2Fai-and-data-science-usecases-6877830316791226368&trk=news-guest_ellipsis-menu-sign-in-redirect\n",
            "URL #10: https://www.linkedin.com/signup/cold-join?session_redirect=https%3A%2F%2Fwww%2Elinkedin%2Ecom%2Fnewsletters%2Fai-and-data-science-usecases-6877830316791226368&trk=news-guest_share-update_ellipsis-menu-sign-in-redirect\n",
            "URL #11: https://www.linkedin.com/pulse/not-so-perfect-chatbot-khushboo-gehi?trk=news-guest_share-article_title\n",
            "URL #12: https://www.linkedin.com/signup/cold-join?session_redirect=https%3A%2F%2Fwww%2Elinkedin%2Ecom%2Fnewsletters%2Fai-and-data-science-usecases-6877830316791226368&trk=news-guest_share-update_likes-text\n",
            "URL #13: https://www.linkedin.com/signup/cold-join?session_redirect=https%3A%2F%2Fwww%2Elinkedin%2Ecom%2Fnewsletters%2Fai-and-data-science-usecases-6877830316791226368&trk=news-guest_share-update_like-cta\n",
            "URL #14: https://www.linkedin.com/signup/cold-join?session_redirect=https%3A%2F%2Fwww%2Elinkedin%2Ecom%2Fnewsletters%2Fai-and-data-science-usecases-6877830316791226368&trk=news-guest_share-update_comment-cta\n",
            "URL #15: https://www.linkedin.com/signup/cold-join?session_redirect=https%3A%2F%2Fwww%2Elinkedin%2Ecom%2Fnewsletters%2Fai-and-data-science-usecases-6877830316791226368&trk=news-guest_share-update_share-cta\n",
            "URL #16: https://www.linkedin.com/signup/cold-join?session_redirect=https%3A%2F%2Fwww%2Elinkedin%2Ecom%2Fnewsletters%2Fai-and-data-science-usecases-6877830316791226368&trk=news-guest_share-update_ellipsis-menu-sign-in-redirect\n",
            "URL #17: https://www.linkedin.com/signup/cold-join?session_redirect=https%3A%2F%2Fwww%2Elinkedin%2Ecom%2Fnewsletters%2Fai-and-data-science-usecases-6877830316791226368&trk=news-guest_share-update_ellipsis-menu-sign-in-redirect\n",
            "URL #18: https://www.linkedin.com/pulse/not-so-perfect-chatbot-khushboo-gehi?trk=news-guest_share-article_title\n",
            "URL #19: https://www.linkedin.com/signup/cold-join?session_redirect=https%3A%2F%2Fwww%2Elinkedin%2Ecom%2Fnewsletters%2Fai-and-data-science-usecases-6877830316791226368&trk=news-guest_share-update_likes-text\n",
            "URL #20: https://www.linkedin.com/signup/cold-join?session_redirect=https%3A%2F%2Fwww%2Elinkedin%2Ecom%2Fnewsletters%2Fai-and-data-science-usecases-6877830316791226368&trk=news-guest_share-update_like-cta\n",
            "URL #21: https://www.linkedin.com/signup/cold-join?session_redirect=https%3A%2F%2Fwww%2Elinkedin%2Ecom%2Fnewsletters%2Fai-and-data-science-usecases-6877830316791226368&trk=news-guest_share-update_comment-cta\n",
            "URL #22: https://www.linkedin.com/signup/cold-join?session_redirect=https%3A%2F%2Fwww%2Elinkedin%2Ecom%2Fnewsletters%2Fai-and-data-science-usecases-6877830316791226368&trk=news-guest_share-update_share-cta\n",
            "URL #23: https://www.linkedin.com/signup/cold-join?session_redirect=https%3A%2F%2Fwww%2Elinkedin%2Ecom%2Fnewsletters%2Fai-and-data-science-usecases-6877830316791226368&trk=news-guest_share-update_ellipsis-menu-sign-in-redirect\n",
            "URL #24: https://www.linkedin.com/pulse/basic-face-detection-khushboo-gehi?trk=news-guest_share-article_title\n",
            "URL #25: https://www.linkedin.com/signup/cold-join?session_redirect=https%3A%2F%2Fwww%2Elinkedin%2Ecom%2Fnewsletters%2Fai-and-data-science-usecases-6877830316791226368&trk=news-guest_share-update_likes-text\n",
            "URL #26: https://www.linkedin.com/signup/cold-join?session_redirect=https%3A%2F%2Fwww%2Elinkedin%2Ecom%2Fnewsletters%2Fai-and-data-science-usecases-6877830316791226368&trk=news-guest_share-update_like-cta\n",
            "URL #27: https://www.linkedin.com/signup/cold-join?session_redirect=https%3A%2F%2Fwww%2Elinkedin%2Ecom%2Fnewsletters%2Fai-and-data-science-usecases-6877830316791226368&trk=news-guest_share-update_comment-cta\n",
            "URL #28: https://www.linkedin.com/signup/cold-join?session_redirect=https%3A%2F%2Fwww%2Elinkedin%2Ecom%2Fnewsletters%2Fai-and-data-science-usecases-6877830316791226368&trk=news-guest_share-update_share-cta\n",
            "URL #29: https://www.linkedin.com/signup/cold-join?session_redirect=https%3A%2F%2Fwww%2Elinkedin%2Ecom%2Fnewsletters%2Fai-and-data-science-usecases-6877830316791226368&trk=news-guest_share-update_ellipsis-menu-sign-in-redirect\n",
            "URL #30: https://www.linkedin.com/signup/cold-join?session_redirect=https%3A%2F%2Fwww%2Elinkedin%2Ecom%2Fnewsletters%2Fai-and-data-science-usecases-6877830316791226368&trk=news-guest_share-update_ellipsis-menu-sign-in-redirect\n",
            "URL #31: https://www.linkedin.com/pulse/basic-face-detection-khushboo-gehi?trk=news-guest_share-article_title\n",
            "URL #32: https://www.linkedin.com/signup/cold-join?session_redirect=https%3A%2F%2Fwww%2Elinkedin%2Ecom%2Fnewsletters%2Fai-and-data-science-usecases-6877830316791226368&trk=news-guest_share-update_likes-text\n",
            "URL #33: https://www.linkedin.com/signup/cold-join?session_redirect=https%3A%2F%2Fwww%2Elinkedin%2Ecom%2Fnewsletters%2Fai-and-data-science-usecases-6877830316791226368&trk=news-guest_share-update_like-cta\n",
            "URL #34: https://www.linkedin.com/signup/cold-join?session_redirect=https%3A%2F%2Fwww%2Elinkedin%2Ecom%2Fnewsletters%2Fai-and-data-science-usecases-6877830316791226368&trk=news-guest_share-update_comment-cta\n",
            "URL #35: https://www.linkedin.com/signup/cold-join?session_redirect=https%3A%2F%2Fwww%2Elinkedin%2Ecom%2Fnewsletters%2Fai-and-data-science-usecases-6877830316791226368&trk=news-guest_share-update_share-cta\n",
            "URL #36: https://www.linkedin.com/signup/cold-join?session_redirect=https%3A%2F%2Fwww%2Elinkedin%2Ecom%2Fnewsletters%2Fai-and-data-science-usecases-6877830316791226368&trk=news-guest_share-update_ellipsis-menu-sign-in-redirect\n",
            "URL #37: https://www.linkedin.com/pulse/time-series-analysis-using-cnns-khushboo-gehi?trk=news-guest_share-article_title\n",
            "URL #38: https://www.linkedin.com/signup/cold-join?session_redirect=https%3A%2F%2Fwww%2Elinkedin%2Ecom%2Fnewsletters%2Fai-and-data-science-usecases-6877830316791226368&trk=news-guest_share-update_like-cta\n",
            "URL #39: https://www.linkedin.com/signup/cold-join?session_redirect=https%3A%2F%2Fwww%2Elinkedin%2Ecom%2Fnewsletters%2Fai-and-data-science-usecases-6877830316791226368&trk=news-guest_share-update_comment-cta\n",
            "URL #40: https://www.linkedin.com/signup/cold-join?session_redirect=https%3A%2F%2Fwww%2Elinkedin%2Ecom%2Fnewsletters%2Fai-and-data-science-usecases-6877830316791226368&trk=news-guest_share-update_share-cta\n",
            "URL #41: https://www.linkedin.com/signup/cold-join?session_redirect=https%3A%2F%2Fwww%2Elinkedin%2Ecom%2Fnewsletters%2Fai-and-data-science-usecases-6877830316791226368&trk=news-guest_share-update_ellipsis-menu-sign-in-redirect\n",
            "URL #42: https://www.linkedin.com/signup/cold-join?session_redirect=https%3A%2F%2Fwww%2Elinkedin%2Ecom%2Fnewsletters%2Fai-and-data-science-usecases-6877830316791226368&trk=news-guest_share-update_ellipsis-menu-sign-in-redirect\n",
            "URL #43: https://www.linkedin.com/pulse/time-series-analysis-using-cnns-khushboo-gehi?trk=news-guest_share-article_title\n",
            "URL #44: https://www.linkedin.com/signup/cold-join?session_redirect=https%3A%2F%2Fwww%2Elinkedin%2Ecom%2Fnewsletters%2Fai-and-data-science-usecases-6877830316791226368&trk=news-guest_share-update_like-cta\n",
            "URL #45: https://www.linkedin.com/signup/cold-join?session_redirect=https%3A%2F%2Fwww%2Elinkedin%2Ecom%2Fnewsletters%2Fai-and-data-science-usecases-6877830316791226368&trk=news-guest_share-update_comment-cta\n",
            "URL #46: https://www.linkedin.com/signup/cold-join?session_redirect=https%3A%2F%2Fwww%2Elinkedin%2Ecom%2Fnewsletters%2Fai-and-data-science-usecases-6877830316791226368&trk=news-guest_share-update_share-cta\n",
            "URL #47: https://www.linkedin.com/signup/cold-join?session_redirect=https%3A%2F%2Fwww%2Elinkedin%2Ecom%2Fnewsletters%2Fai-and-data-science-usecases-6877830316791226368&trk=news-guest_share-update_ellipsis-menu-sign-in-redirect\n",
            "URL #48: https://www.linkedin.com/pulse/using-lstm-navigate-robots-khushboo-gehi?trk=news-guest_share-article_title\n",
            "URL #49: https://www.linkedin.com/signup/cold-join?session_redirect=https%3A%2F%2Fwww%2Elinkedin%2Ecom%2Fnewsletters%2Fai-and-data-science-usecases-6877830316791226368&trk=news-guest_share-update_likes-text\n",
            "URL #50: https://www.linkedin.com/signup/cold-join?session_redirect=https%3A%2F%2Fwww%2Elinkedin%2Ecom%2Fnewsletters%2Fai-and-data-science-usecases-6877830316791226368&trk=news-guest_share-update_like-cta\n",
            "URL #51: https://www.linkedin.com/signup/cold-join?session_redirect=https%3A%2F%2Fwww%2Elinkedin%2Ecom%2Fnewsletters%2Fai-and-data-science-usecases-6877830316791226368&trk=news-guest_share-update_comment-cta\n",
            "URL #52: https://www.linkedin.com/signup/cold-join?session_redirect=https%3A%2F%2Fwww%2Elinkedin%2Ecom%2Fnewsletters%2Fai-and-data-science-usecases-6877830316791226368&trk=news-guest_share-update_share-cta\n",
            "URL #53: https://www.linkedin.com/signup/cold-join?session_redirect=https%3A%2F%2Fwww%2Elinkedin%2Ecom%2Fnewsletters%2Fai-and-data-science-usecases-6877830316791226368&trk=news-guest_share-update_ellipsis-menu-sign-in-redirect\n",
            "URL #54: https://www.linkedin.com/signup/cold-join?session_redirect=https%3A%2F%2Fwww%2Elinkedin%2Ecom%2Fnewsletters%2Fai-and-data-science-usecases-6877830316791226368&trk=news-guest_share-update_ellipsis-menu-sign-in-redirect\n",
            "URL #55: https://www.linkedin.com/pulse/using-lstm-navigate-robots-khushboo-gehi?trk=news-guest_share-article_title\n",
            "URL #56: https://www.linkedin.com/signup/cold-join?session_redirect=https%3A%2F%2Fwww%2Elinkedin%2Ecom%2Fnewsletters%2Fai-and-data-science-usecases-6877830316791226368&trk=news-guest_share-update_likes-text\n",
            "URL #57: https://www.linkedin.com/signup/cold-join?session_redirect=https%3A%2F%2Fwww%2Elinkedin%2Ecom%2Fnewsletters%2Fai-and-data-science-usecases-6877830316791226368&trk=news-guest_share-update_like-cta\n",
            "URL #58: https://www.linkedin.com/signup/cold-join?session_redirect=https%3A%2F%2Fwww%2Elinkedin%2Ecom%2Fnewsletters%2Fai-and-data-science-usecases-6877830316791226368&trk=news-guest_share-update_comment-cta\n",
            "URL #59: https://www.linkedin.com/signup/cold-join?session_redirect=https%3A%2F%2Fwww%2Elinkedin%2Ecom%2Fnewsletters%2Fai-and-data-science-usecases-6877830316791226368&trk=news-guest_share-update_share-cta\n",
            "URL #60: https://www.linkedin.com/signup/cold-join?session_redirect=https%3A%2F%2Fwww%2Elinkedin%2Ecom%2Fnewsletters%2Fai-and-data-science-usecases-6877830316791226368&trk=news-guest_share-update_ellipsis-menu-sign-in-redirect\n",
            "URL #61: https://www.linkedin.com/pulse/churn-prediction-using-deep-neural-network-khushboo-gehi?trk=news-guest_share-article_title\n",
            "URL #62: https://www.linkedin.com/signup/cold-join?session_redirect=https%3A%2F%2Fwww%2Elinkedin%2Ecom%2Fnewsletters%2Fai-and-data-science-usecases-6877830316791226368&trk=news-guest_share-update_likes-text\n",
            "URL #63: https://www.linkedin.com/signup/cold-join?session_redirect=https%3A%2F%2Fwww%2Elinkedin%2Ecom%2Fnewsletters%2Fai-and-data-science-usecases-6877830316791226368&trk=news-guest_share-update_comments-text\n",
            "URL #64: https://www.linkedin.com/signup/cold-join?session_redirect=https%3A%2F%2Fwww%2Elinkedin%2Ecom%2Fnewsletters%2Fai-and-data-science-usecases-6877830316791226368&trk=news-guest_share-update_like-cta\n",
            "URL #65: https://www.linkedin.com/signup/cold-join?session_redirect=https%3A%2F%2Fwww%2Elinkedin%2Ecom%2Fnewsletters%2Fai-and-data-science-usecases-6877830316791226368&trk=news-guest_share-update_comment-cta\n",
            "URL #66: https://www.linkedin.com/signup/cold-join?session_redirect=https%3A%2F%2Fwww%2Elinkedin%2Ecom%2Fnewsletters%2Fai-and-data-science-usecases-6877830316791226368&trk=news-guest_share-update_share-cta\n",
            "URL #67: https://www.linkedin.com/signup/cold-join?session_redirect=https%3A%2F%2Fwww%2Elinkedin%2Ecom%2Fnewsletters%2Fai-and-data-science-usecases-6877830316791226368&trk=news-guest_share-update_ellipsis-menu-sign-in-redirect\n",
            "URL #68: https://www.linkedin.com/signup/cold-join?session_redirect=https%3A%2F%2Fwww%2Elinkedin%2Ecom%2Fnewsletters%2Fai-and-data-science-usecases-6877830316791226368&trk=news-guest_share-update_ellipsis-menu-sign-in-redirect\n",
            "URL #69: https://www.linkedin.com/pulse/churn-prediction-using-deep-neural-network-khushboo-gehi?trk=news-guest_share-article_title\n",
            "URL #70: https://www.linkedin.com/signup/cold-join?session_redirect=https%3A%2F%2Fwww%2Elinkedin%2Ecom%2Fnewsletters%2Fai-and-data-science-usecases-6877830316791226368&trk=news-guest_share-update_likes-text\n",
            "URL #71: https://www.linkedin.com/signup/cold-join?session_redirect=https%3A%2F%2Fwww%2Elinkedin%2Ecom%2Fnewsletters%2Fai-and-data-science-usecases-6877830316791226368&trk=news-guest_share-update_comments-text\n",
            "URL #72: https://www.linkedin.com/signup/cold-join?session_redirect=https%3A%2F%2Fwww%2Elinkedin%2Ecom%2Fnewsletters%2Fai-and-data-science-usecases-6877830316791226368&trk=news-guest_share-update_like-cta\n",
            "URL #73: https://www.linkedin.com/signup/cold-join?session_redirect=https%3A%2F%2Fwww%2Elinkedin%2Ecom%2Fnewsletters%2Fai-and-data-science-usecases-6877830316791226368&trk=news-guest_share-update_comment-cta\n",
            "URL #74: https://www.linkedin.com/signup/cold-join?session_redirect=https%3A%2F%2Fwww%2Elinkedin%2Ecom%2Fnewsletters%2Fai-and-data-science-usecases-6877830316791226368&trk=news-guest_share-update_share-cta\n",
            "URL #75: https://www.linkedin.com/pulse/staff-absence-analysis-using-logistic-regression-khushboo-gehi?trk=news-guest_result-card_subtitle-click\n",
            "URL #76: https://www.linkedin.com/pulse/visual-representation-topic-clusters-part-2-khushboo-gehi?trk=news-guest_result-card_subtitle-click\n",
            "URL #77: https://www.linkedin.com/pulse/visual-representation-topic-clusters-part-1-khushboo-gehi?trk=news-guest_result-card_subtitle-click\n"
          ]
        }
      ]
    },
    {
      "cell_type": "code",
      "source": [
        "paragraph[0]"
      ],
      "metadata": {
        "colab": {
          "base_uri": "https://localhost:8080/"
        },
        "id": "3DlFECVdE_mp",
        "outputId": "31aeb566-9a97-480d-9713-843037edfc4d"
      },
      "execution_count": 28,
      "outputs": [
        {
          "output_type": "execute_result",
          "data": {
            "text/plain": [
              "['Remove Photo',\n",
              " 'or',\n",
              " 'Already on LinkedIn? Sign in',\n",
              " 'Looking to create a page for a business? Get help']"
            ]
          },
          "metadata": {},
          "execution_count": 28
        }
      ]
    },
    {
      "cell_type": "code",
      "source": [
        "page = [\"\".join(text) for text in paragraph]"
      ],
      "metadata": {
        "id": "s_feQ7mTGegy"
      },
      "execution_count": 29,
      "outputs": []
    },
    {
      "cell_type": "code",
      "source": [
        "print(page[5])"
      ],
      "metadata": {
        "colab": {
          "base_uri": "https://localhost:8080/"
        },
        "id": "WpbXOqRqHoDr",
        "outputId": "9ba690c3-da69-4633-aec3-15f99e1ac6a5"
      },
      "execution_count": 30,
      "outputs": [
        {
          "output_type": "stream",
          "name": "stdout",
          "text": [
            "Remove PhotoorAlready on LinkedIn? Sign inLooking to create a page for a business? Get help\n"
          ]
        }
      ]
    },
    {
      "cell_type": "code",
      "source": [
        "url_to_text = dict(zip(div_urls, page))\n",
        "url_to_text"
      ],
      "metadata": {
        "colab": {
          "base_uri": "https://localhost:8080/"
        },
        "id": "9JVt8FXHHs2O",
        "outputId": "e0239922-a561-42c6-9205-ab540eee6e4d"
      },
      "execution_count": 38,
      "outputs": [
        {
          "output_type": "execute_result",
          "data": {
            "text/plain": [
              "{'https://www.linkedin.com/pulse/basic-face-detection-khushboo-gehi?trk=news-guest_share-article_title': 'Facial detection and recognition are commonly applied in security bio-metrics, social media, personal devices,etc. Various methods used in facial recognition include geometric, wholistic, appearance based, statistical or neural network based. Typically a face detection system captures an image, detects face, normalizes it, extracts & matches the feature vectors to identify a face. This article explains the application of a simple and basic face detection model created using Viola-Jones framework. The Viola-Jones framework works in 4 phases -First, Haar-like features are selected. This means dividing an image into multiple rectangular parts. These are visualized as black and white adjacent rectangles on the specific features of the face like eyes, bridge of the nose, lips, and so on. See example on the image on the right.  Next, an integral image is formed by calculating the summed-area values of the pixels step by step.After this, AdaBoost training is applied. AdaBoost or adaptive boosting is where a group of weak learners gang up to form a single strong learner, that chooses the specific features to use to find faces in an image.  Here, a weak learner works on sub regions of an image to classify them as face or no face, while a strong learner picks whole faces from non-faces. Then, cascades of classifiers are formed, that take in multiple image sub regions to classify them as face or no face to finally detect whole faces in an image.  Here is a simple application of this, an image is first converted into grayscale as a preprocessing step. The frontal face cascade classifier from the Viola-Jones framework is applied and the detected faces surrounded by green borders on the original image is obtained as output.The model is tested randomly on images off the internet and here is how it performs-In the first test, on celebrity images snipped from a google image search. It clearly detects every little face out there, including a distorted face, which is the 4th face from the left on the top row. It however, has a tendency to over perform, in certain areas, the ones with double rectangles. And if you notice, there is a half face that has gone undetected on the second row. In another test with dog faces, again snipped from a google search, it detects only one face.That is the one on the top right.And in a final test of model faces, snipped out of a google search, it works pretty decently.The cascade classifiers can be adjusted to detect specific identify specific features for detection, like front face, side face, and so on.\\n\\n        To view or add a comment, sign in\\n      \\n      To view or add a comment, sign in\\n',\n",
              " 'https://www.linkedin.com/pulse/churn-prediction-using-deep-neural-network-khushboo-gehi?trk=news-guest_share-article_title': 'Customer churn is essential in business as getting new customers requires more efforts and investment. This business logic is also applicable for retaining other business stake holders like employees, suppliers, investors etc. Whether it is getting new clients, hiring new employees, sourcing new suppliers or getting new investors, they all involve additional costs and investments. This article is about training a deep neural network to predict purchase behavior of customers for an application selling digital books.  Here is the brief overview of the pipeline -The image on the right describes the architecture of the model.  The model has two hidden layers, with relu as activation function, adam used as optimizer, trained with batch size 100 over 100 epochs. Input variables here include average number of books purchased, sum of books purchased, average price paid, sum of price paid, review (boolean, given or not), review(int value max 10), total pages read, completion percent (value between 0 and 1), number of support requests, number of days last visit since day of purchase.  The prediction is of how the customer will convert within a span of 6 months, based on customer engagement activity of past 2 years. The model can be used in two ways, a) to understand the probability of a customer converting, b) predict whether they buy (1) or not (0). Please share your feedback and suggestions in the comments section.Happy learning! \\n\\n        To view or add a comment, sign in\\n      \\n      To view or add a comment, sign in\\n',\n",
              " 'https://www.linkedin.com/pulse/not-so-perfect-chatbot-khushboo-gehi?trk=news-guest_share-article_title': 'Chatbots are almost everywhere, most of us have interacted with at least one chatbot by now through voice/text conversations. People with access to advanced technology might have even interacted with a well-trained life size robot. Two of the most commonly known and used chatbots are SIRI and Alexa. A typical chatbot has a chat interface in the front end with an NLP model running in the background that processes language based on the data it is trained on to respond to input received from human, or another bot/system.A basic chatbot can be implemented with some basic language processing steps - loading the training corpus, converting case, tokenizing, stemming, bag of words and one hot encoding. This article describes a basic chatbot, which is not so perfect, but responds decently to a conversation about AI and data science use cases. The bot is trained on text extracted from articles in this newsletter.  It is trained to start a conversation with a greeting such as \"Hi!\", \"Hey\", \"Namaste\" and end the conversation when the user types \"bye\".  During the conversation,  the bot is asked about random topics from previous articles in this newsletter such. It responds to words such as \"regression\", \"classification\", \"face detection\" and so with some warnings and some inconsistent, random sentences from within the text corpus using the input word. On trying to have a random conversation or out of context text input, it returns \"Sorry!\\xa0I\\xa0don\\'t\\xa0understand\\xa0you\". Here is a sample conversation, with warnings removed for presentation purpose. \\n\\n        To view or add a comment, sign in\\n      \\n      To view or add a comment, sign in\\n',\n",
              " 'https://www.linkedin.com/pulse/staff-absence-analysis-using-logistic-regression-khushboo-gehi?trk=news-guest_result-card_subtitle-click': \"Logistic regression is a supervised learning technique that predicts discrete or binary values using a set of independent variables. This article describes a business case where logistic regression is used to analyze and predict whether or not a member of staff is being excessively absent. The prediction output here is restricted to two values, either 0 or 1.  To train the model, the median of total number of absent hours is taken as the threshold to set the targets. Each staff member who's absent hours value is\\xa0greater than the median is\\xa0assigned value 1, classified as excessive and each staff member with number of absent hours below the median value are classified as non-excessively absent with value 0, this is included as the last column named 'Excessive Absenteeism'.  This is taken as target variable, while the rest of the columns are independent variables.Observe the last row of the correlation heat map to understand how the independent variables affect the target variable. Since the target has been derived using the 'Absenteeism Time in Hours', the correlation is positive.  Amongst reasons, 'Reason_1' is positive, while 'Reason_4' is negatively correlated with target. The variables  'Reason_1', 'Reason_2', 'Reason_3', 'Reason_4', 'Month Value', 'Transportation Expense', 'Age', 'Body Mass Index', 'Education', 'Children', 'Pets' are selected as input variables for the regression model. The inputs are standardized using standard scaler to fit the data and split as 80% train and 20% test. The trained model gives an accuracy score of 78.39% with 439 out of 560 correct predictions. The visual below explains how the model uses different features and the impact of individual features on the model.The reason variables have a higher impact on the model as compared with the rest of the variables, with the highest impact variable being 'Reason_1' which was observed to have high correlation with target variable. 'Reason_2' has a lower yet positive impact on the predictions as well, though its correlation with the target variable was observed to be negative. 'Pets' here has a negative influence on the prediction, which means that, higher number of pets are corelated with staff member not being excessively absent, similar with education and age, though on a lower scale. In the comments section below, describe your feedback and observations from the case described above.Happy learning! :)\\n\\n        To view or add a comment, sign in\\n      \\n      To view or add a comment, sign in\\n\",\n",
              " 'https://www.linkedin.com/pulse/time-series-analysis-using-cnns-khushboo-gehi?trk=news-guest_share-article_title': 'Time series analysis can be implemented in multiple ways including linear models in machine learning, recurrent neural networks, long-short term memory networks and convolutional neural networks. This article is about implementing time series forecasting using convolutional neural networks or CNNs. ConvNets are known for image processing and classification. They are becoming increasingly popular for processing sequences in time series as well as natural language. This article explains an example where a CNN is constructed to perform time series analysis. 1-D convolutional networks are able to handle input sequences of any length and they do not have memory like RNNs. They compute each output based on a small window of input time steps.  Here is how the hyper parameter settings in CNNs work on time series data:(i) kernel size - a good practice is to stack multiple convolutional layers with small kernel size, this reduces the computations and parameters used and increases the networks capacity to learn complex patterns.(ii) padding -  \"valid\"  is the default value aka no padding, returns output sequence shorter than input sequence.  \"same\"  returns same length of output and input sequences with padding on both sides. \"causal\" returns output depending on previous sequence (t-1) which prevents model from cheating and ensures forecasting is purely based on past values and not future values. Using \"causal\" is a good practice for forecasting models.(iii) stride - default value is 1, it refers to how many time steps the filter slides at a time, it returns the function of preceding input time steps.(iv) number of kernels or filters -  if it\\'s too low, it can lead to the model under fitting and a very high value could lead to an over fitting model.This is an example of a fully convolutional model that uses WaveNet architecture. It is created using a sequential model in keras, with the first layer being the input layer, multiple convolutional layers with increasing dilation rate inside a for loop. The last layer is a convolutional layer with one filter so that the output is just one time step. RNNs are commonly used to perform time series analysis, but in some cases CNNs could be a better option. \\n\\n        To view or add a comment, sign in\\n      \\n      To view or add a comment, sign in\\n',\n",
              " 'https://www.linkedin.com/pulse/using-lstm-navigate-robots-khushboo-gehi?trk=news-guest_share-article_title': 'Long Short-Term Memory networks or LSTMs are a type of Recurrent Neural Networks that reuse the output of a previous step as an input for the next. They are useful making predictions based on sequences. In writing, for example, the context in which sentences are written is formed based on sequences of words. Another use of LSTMs is in forecasting based on past sequences of events in time-series. Like Convolutional Neural Networks, LSTMs are even used in processing images. This article describes the use of an LSTM network in helping a robot navigate based on data acquired from its front and back sensors. The robot moves clockwise in four directions, along side a wall - forward, slightly left, slightly right and sharp right, using ultrasound sensors. The directions form the classification labels for training, as well as, the output variable for the LSTM network. The measurements of the distance between two sensors, located on the front and side of the waist of the robot and the wall are used to decide the direction. For example, incase the front sensor measures a larger distance against the wall in front of it, the robot would move forward, meaning that there is more space between the robot and the wall.  The data is preprocessed such that the two columns with measurements from each sensor are organized in timesteps to form the input variable and the labels are transposed such that each time step has a label.\\xa0Split into train and test, the data is trained using an LSTM using input layer of size 2 (the 2 columns), a Bi-LSTM layer with 100 hidden units, 4 fully connected layer, softmax and the classification output layer.The network is trained using 3 different options and the best performance at 96.30% accuracy obtained using the following -Here is what the performance looks like -\\n\\n        To view or add a comment, sign in\\n      \\n      To view or add a comment, sign in\\n',\n",
              " 'https://www.linkedin.com/pulse/visual-representation-topic-clusters-part-1-khushboo-gehi?trk=news-guest_result-card_subtitle-click': \"Interactive visualizations of topic models are created using LDAvis framework with 3 multidimensional scaling options - pcoa:Principal Coordinate Analysis(aka Classical Multidimensional Scaling), mmds:Metric Multidimensional Scaling and tsne:t-distributed Stochastic Neighbor Embedding. LDAvis uses topic-term distributions, document-topic distributions, and basic information about the training corpus to generate visual representation of topic models. In comparison other visualization techniques, such as word clouds, word maps and graph visualizations, this method provides much more information about the quality of the topic model and the relationship of terms and topics. The distinctiveness & saliency of the term measure how much information a term conveys about topics globally. The left panel of the visual provides a global view of the topic model, representing the prevalence of each topic and how topics relate to each other. The topics are reduced to two-dimensions and plotted as circles using multidimensional scaling run on an inter-topic distance matrix. The centers of the circles are computed by measuring the distance between topics. The areas of the circles represent the computed prevalence of topics, sorted in decreasing order. The horizontal bar chart on the right panel presents the individual terms. That is most useful for interpreting the currently selected topic on the left. When no topic is selected, it displays the frequency distribution of the most salient terms in the whole tokenized corpus.  This article describes a visual analysis performed using this tool with screenshots. An inter-topic distance map created using metric multidimensional scaling shows pairwise distances among the set of topics in an NMF model with 20 topics. Here, Topic 1 is selected to observe its relationship with other topics, its terms, their global and local relationships. Topics 1,6,5 have overlapping circles, whereas topics 7, 12, 11, 3, 4 are distinct from topic 1. Topic 20 and 17 are further away from each other and represent a smaller portion, about 2% of the entire corpus. Topic 1, represents 10.6% of the whole corpus and the top 30 relevant terms in the topic at default lambda value = 1 represent deep learning theme. The relevance of the terms are determined by the degree to which they appear in a particular topic to the exclusion of others. Value of lambda is the weight given to the probability of the respective term under the selected topic relative to its lift. For topic 1, the most relevant term is 'neural' for the value of lambda between 0.36 to 1. This suggests that it is the most common or frequent term in relation to topic 1. On changing the value of lambda to between 0.27 to 0.35 the ranking of the term goes to second position and moves to third between 0.13 to 0.26 and goes out of the top-30 below 0.2. The conditional distribution of the term 'neural' in relation to other topics and topic 1 suggests that it is frequent amongst topics 3, 4, 5, 6 and 20 besides topic 1.Though its frequency remains highest in the corpus in relation to the topic, when lambda is ignored (or =0) the terms are ranked using lift, ratio of the term's probability within a topic to its marginal probability across the corpus.  Observe that ignoring the lambda value ranks different terms as relevant. For example, terms 'l1','fool', 'I2, are ranked amongst the top 6 and the terms following it are mostly bi-gram terms, which do contain key terms, however, they are not very clear thematic representations in comparison to the terms that appeared in top 30 with lambda=1. Also the 14th and 20th terms are nouns. On comparing the 30-most relevant terms at lambda =1 and lambda = 0, it is observed that though the ranking of the terms changes the top 30 terms completely, the overall meaning of the topic remains about the same. However quite a few irrelevant terms appear on the top, which create noise.Stay tuned for part 2 of this article, where you will see the pcoa and tsne representations of topic models.Please share your feedback about this article in the comments section. Happy learning! :)\\n\\n        To view or add a comment, sign in\\n      \\n      To view or add a comment, sign in\\n\",\n",
              " 'https://www.linkedin.com/pulse/visual-representation-topic-clusters-part-2-khushboo-gehi?trk=news-guest_result-card_subtitle-click': 'This is a sequel of the article titled \"Visual Representation of Topic Clusters (Part 1)\" . Here we will look at the pcoa and tsne representations of topic models using LDAvis.PCOA or principal coordinate analysis is also known as classical multidimensional scaling. The visual below represents pcoa on an NMF(non-negative matrix factorization) model with 9 topics. This shows global clusters which represent the marginal distribution of the terms across the topics in the entire corpus. The bar chart showing top-30 most salient terms in the whole corpus on the right panel.  Observe that topic 1, to which 23.9% of the tokens in the corpus belong.  Clustered around the selected topic are topics 5,4,3 and 2. The bigger the circles, the higher the frequency of the said terms and the further the distance between, the lesser the similarity between terms amongst topics. In other words, topic 9 is more distinct in theme to topic 1 in comparison with topic 5. On the other hand, though it is similar to theme of topic 2, it has very few overlapping terms with topic 2 as compared with topic 5.In the  tsne  representation,  topic  2  is  selected  to  observe. As observed in the pcoa, it is  similar in meaning to topic 1 from the previous model and represents 20.2% of the corpus and is the second most dominant topic in the entire corpus.  Similar to the visualization, from the previous article, the distribution is skewed and the term ’neural’ is the most relevant term when lambda =  1.   This  is  selected  to  compare  it  with  a  topic  with  the  same  theme  in both topic models, the overall ranking of terms and change in rankings with respect to change in lambda values is similar in both representations.  The distance between topics in this case is local, which means that amongst themselves, the topics are dissimilar when compared with each other. This is a clear presentation of the variety of the sub-themes in the corpus. When compared with the pcoa analysis, in respect to the overall corpus, they are similar and the model would have a high coherence score.   This means that overall the documents in the corpus come from a similar background or subject. Both tsne and pcoa are unsupervised dimensionality reduction techniques, however, pcoa is  linear and tsne is non-linear.  While pcoa preserves the global cluster of data, tsne preserves the local cluster of data and is a randomized algorithm.\\n\\n        To view or add a comment, sign in\\n      \\n      To view or add a comment, sign in\\n',\n",
              " 'https://www.linkedin.com/signup/cold-join?session_redirect=https%3A%2F%2Fwww%2Elinkedin%2Ecom%2Fnewsletters%2Fai-and-data-science-usecases-6877830316791226368&trk=news-guest_ellipsis-menu-sign-in-redirect': 'Remove PhotoorAlready on LinkedIn? Sign inLooking to create a page for a business? Get help',\n",
              " 'https://www.linkedin.com/signup/cold-join?session_redirect=https%3A%2F%2Fwww%2Elinkedin%2Ecom%2Fnewsletters%2Fai-and-data-science-usecases-6877830316791226368&trk=news-guest_share-update_comment-cta': 'Remove PhotoorAlready on LinkedIn? Sign inLooking to create a page for a business? Get help',\n",
              " 'https://www.linkedin.com/signup/cold-join?session_redirect=https%3A%2F%2Fwww%2Elinkedin%2Ecom%2Fnewsletters%2Fai-and-data-science-usecases-6877830316791226368&trk=news-guest_share-update_comments-text': 'Remove PhotoorAlready on LinkedIn? Sign inLooking to create a page for a business? Get help',\n",
              " 'https://www.linkedin.com/signup/cold-join?session_redirect=https%3A%2F%2Fwww%2Elinkedin%2Ecom%2Fnewsletters%2Fai-and-data-science-usecases-6877830316791226368&trk=news-guest_share-update_ellipsis-menu-sign-in-redirect': 'Remove PhotoorAlready on LinkedIn? Sign inLooking to create a page for a business? Get help',\n",
              " 'https://www.linkedin.com/signup/cold-join?session_redirect=https%3A%2F%2Fwww%2Elinkedin%2Ecom%2Fnewsletters%2Fai-and-data-science-usecases-6877830316791226368&trk=news-guest_share-update_like-cta': 'Remove PhotoorAlready on LinkedIn? Sign inLooking to create a page for a business? Get help',\n",
              " 'https://www.linkedin.com/signup/cold-join?session_redirect=https%3A%2F%2Fwww%2Elinkedin%2Ecom%2Fnewsletters%2Fai-and-data-science-usecases-6877830316791226368&trk=news-guest_share-update_likes-text': 'Remove PhotoorAlready on LinkedIn? Sign inLooking to create a page for a business? Get help',\n",
              " 'https://www.linkedin.com/signup/cold-join?session_redirect=https%3A%2F%2Fwww%2Elinkedin%2Ecom%2Fnewsletters%2Fai-and-data-science-usecases-6877830316791226368&trk=news-guest_share-update_share-cta': 'Remove PhotoorAlready on LinkedIn? Sign inLooking to create a page for a business? Get help',\n",
              " 'https://www.linkedin.com/signup/cold-join?session_redirect=https%3A%2F%2Fwww%2Elinkedin%2Ecom%2Fnewsletters%2Fai-and-data-science-usecases-6877830316791226368&trk=news-guest_top-card-primary-button': 'Remove PhotoorAlready on LinkedIn? Sign inLooking to create a page for a business? Get help',\n",
              " 'https://www.linkedin.com/signup/cold-join?trk=news-guest_nav-header-join': 'Remove PhotoorAlready on LinkedIn? Sign inLooking to create a page for a business? Get help',\n",
              " 'https://www.linkedin.com/uas/login?fromSignIn=true&trk=news-guest_nav-header-signin': \"Stay updated on your professional worldClick on the link to sign in instantly to your LinkedIn account.If you don't see the email in your inbox, check your spam folder.LinkedIn© 2022\"}"
            ]
          },
          "metadata": {},
          "execution_count": 38
        }
      ]
    },
    {
      "cell_type": "code",
      "source": [
        ""
      ],
      "metadata": {
        "id": "Xxi2W4fyHzCY"
      },
      "execution_count": 33,
      "outputs": []
    },
    {
      "cell_type": "code",
      "source": [
        "import pandas as pd\n",
        "df = pd.DataFrame.from_dict(url_to_text, orient='index', columns=['Extracted Text'])\n",
        "df.info()\n",
        "df.to_csv(\"newsletter.csv\", index = True, header = True)\n"
      ],
      "metadata": {
        "colab": {
          "base_uri": "https://localhost:8080/"
        },
        "id": "EKpzDZS0IIni",
        "outputId": "cbf075d4-78d7-4622-a316-07fb2246f831"
      },
      "execution_count": 52,
      "outputs": [
        {
          "output_type": "stream",
          "name": "stdout",
          "text": [
            "<class 'pandas.core.frame.DataFrame'>\n",
            "Index: 18 entries, https://www.linkedin.com/signup/cold-join?trk=news-guest_nav-header-join to https://www.linkedin.com/pulse/visual-representation-topic-clusters-part-1-khushboo-gehi?trk=news-guest_result-card_subtitle-click\n",
            "Data columns (total 1 columns):\n",
            " #   Column          Non-Null Count  Dtype \n",
            "---  ------          --------------  ----- \n",
            " 0   Extracted Text  18 non-null     object\n",
            "dtypes: object(1)\n",
            "memory usage: 288.0+ bytes\n"
          ]
        }
      ]
    },
    {
      "cell_type": "code",
      "source": [
        ""
      ],
      "metadata": {
        "colab": {
          "base_uri": "https://localhost:8080/"
        },
        "id": "5z1I6rFmIqa-",
        "outputId": "99db1141-ff29-46ae-8df4-f02d52f93992"
      },
      "execution_count": 48,
      "outputs": [
        {
          "output_type": "stream",
          "name": "stdout",
          "text": [
            "<class 'pandas.core.frame.DataFrame'>\n",
            "Index: 18 entries, https://www.linkedin.com/signup/cold-join?trk=news-guest_nav-header-join to https://www.linkedin.com/pulse/visual-representation-topic-clusters-part-1-khushboo-gehi?trk=news-guest_result-card_subtitle-click\n",
            "Data columns (total 1 columns):\n",
            " #   Column          Non-Null Count  Dtype \n",
            "---  ------          --------------  ----- \n",
            " 0   Extracted Text  18 non-null     object\n",
            "dtypes: object(1)\n",
            "memory usage: 288.0+ bytes\n"
          ]
        }
      ]
    },
    {
      "cell_type": "code",
      "source": [
        ""
      ],
      "metadata": {
        "colab": {
          "base_uri": "https://localhost:8080/",
          "height": 1000
        },
        "id": "xORqk0whI5qT",
        "outputId": "29b948eb-7fe6-4af0-9826-c94c1007fadb"
      },
      "execution_count": 51,
      "outputs": [
        {
          "output_type": "execute_result",
          "data": {
            "text/html": [
              "\n",
              "  <div id=\"df-2dba7183-98c6-4122-adce-a4aef22dfa7b\">\n",
              "    <div class=\"colab-df-container\">\n",
              "      <div>\n",
              "<style scoped>\n",
              "    .dataframe tbody tr th:only-of-type {\n",
              "        vertical-align: middle;\n",
              "    }\n",
              "\n",
              "    .dataframe tbody tr th {\n",
              "        vertical-align: top;\n",
              "    }\n",
              "\n",
              "    .dataframe thead th {\n",
              "        text-align: right;\n",
              "    }\n",
              "</style>\n",
              "<table border=\"1\" class=\"dataframe\">\n",
              "  <thead>\n",
              "    <tr style=\"text-align: right;\">\n",
              "      <th></th>\n",
              "      <th>Extracted Text</th>\n",
              "    </tr>\n",
              "  </thead>\n",
              "  <tbody>\n",
              "    <tr>\n",
              "      <th>https://www.linkedin.com/signup/cold-join?trk=news-guest_nav-header-join</th>\n",
              "      <td>Remove PhotoorAlready on LinkedIn? Sign inLook...</td>\n",
              "    </tr>\n",
              "    <tr>\n",
              "      <th>https://www.linkedin.com/uas/login?fromSignIn=true&amp;trk=news-guest_nav-header-signin</th>\n",
              "      <td>Stay updated on your professional worldClick o...</td>\n",
              "    </tr>\n",
              "    <tr>\n",
              "      <th>https://www.linkedin.com/signup/cold-join?session_redirect=https%3A%2F%2Fwww%2Elinkedin%2Ecom%2Fnewsletters%2Fai-and-data-science-usecases-6877830316791226368&amp;trk=news-guest_top-card-primary-button</th>\n",
              "      <td>Remove PhotoorAlready on LinkedIn? Sign inLook...</td>\n",
              "    </tr>\n",
              "    <tr>\n",
              "      <th>https://www.linkedin.com/signup/cold-join?session_redirect=https%3A%2F%2Fwww%2Elinkedin%2Ecom%2Fnewsletters%2Fai-and-data-science-usecases-6877830316791226368&amp;trk=news-guest_ellipsis-menu-sign-in-redirect</th>\n",
              "      <td>Remove PhotoorAlready on LinkedIn? Sign inLook...</td>\n",
              "    </tr>\n",
              "    <tr>\n",
              "      <th>https://www.linkedin.com/signup/cold-join?session_redirect=https%3A%2F%2Fwww%2Elinkedin%2Ecom%2Fnewsletters%2Fai-and-data-science-usecases-6877830316791226368&amp;trk=news-guest_share-update_ellipsis-menu-sign-in-redirect</th>\n",
              "      <td>Remove PhotoorAlready on LinkedIn? Sign inLook...</td>\n",
              "    </tr>\n",
              "    <tr>\n",
              "      <th>https://www.linkedin.com/pulse/not-so-perfect-chatbot-khushboo-gehi?trk=news-guest_share-article_title</th>\n",
              "      <td>Chatbots are almost everywhere, most of us hav...</td>\n",
              "    </tr>\n",
              "    <tr>\n",
              "      <th>https://www.linkedin.com/signup/cold-join?session_redirect=https%3A%2F%2Fwww%2Elinkedin%2Ecom%2Fnewsletters%2Fai-and-data-science-usecases-6877830316791226368&amp;trk=news-guest_share-update_likes-text</th>\n",
              "      <td>Remove PhotoorAlready on LinkedIn? Sign inLook...</td>\n",
              "    </tr>\n",
              "    <tr>\n",
              "      <th>https://www.linkedin.com/signup/cold-join?session_redirect=https%3A%2F%2Fwww%2Elinkedin%2Ecom%2Fnewsletters%2Fai-and-data-science-usecases-6877830316791226368&amp;trk=news-guest_share-update_like-cta</th>\n",
              "      <td>Remove PhotoorAlready on LinkedIn? Sign inLook...</td>\n",
              "    </tr>\n",
              "    <tr>\n",
              "      <th>https://www.linkedin.com/signup/cold-join?session_redirect=https%3A%2F%2Fwww%2Elinkedin%2Ecom%2Fnewsletters%2Fai-and-data-science-usecases-6877830316791226368&amp;trk=news-guest_share-update_comment-cta</th>\n",
              "      <td>Remove PhotoorAlready on LinkedIn? Sign inLook...</td>\n",
              "    </tr>\n",
              "    <tr>\n",
              "      <th>https://www.linkedin.com/signup/cold-join?session_redirect=https%3A%2F%2Fwww%2Elinkedin%2Ecom%2Fnewsletters%2Fai-and-data-science-usecases-6877830316791226368&amp;trk=news-guest_share-update_share-cta</th>\n",
              "      <td>Remove PhotoorAlready on LinkedIn? Sign inLook...</td>\n",
              "    </tr>\n",
              "    <tr>\n",
              "      <th>https://www.linkedin.com/pulse/basic-face-detection-khushboo-gehi?trk=news-guest_share-article_title</th>\n",
              "      <td>Facial detection and recognition are commonly ...</td>\n",
              "    </tr>\n",
              "    <tr>\n",
              "      <th>https://www.linkedin.com/pulse/time-series-analysis-using-cnns-khushboo-gehi?trk=news-guest_share-article_title</th>\n",
              "      <td>Time series analysis can be implemented in mul...</td>\n",
              "    </tr>\n",
              "    <tr>\n",
              "      <th>https://www.linkedin.com/pulse/using-lstm-navigate-robots-khushboo-gehi?trk=news-guest_share-article_title</th>\n",
              "      <td>Long Short-Term Memory networks or LSTMs are a...</td>\n",
              "    </tr>\n",
              "    <tr>\n",
              "      <th>https://www.linkedin.com/pulse/churn-prediction-using-deep-neural-network-khushboo-gehi?trk=news-guest_share-article_title</th>\n",
              "      <td>Customer churn is essential in business as get...</td>\n",
              "    </tr>\n",
              "    <tr>\n",
              "      <th>https://www.linkedin.com/signup/cold-join?session_redirect=https%3A%2F%2Fwww%2Elinkedin%2Ecom%2Fnewsletters%2Fai-and-data-science-usecases-6877830316791226368&amp;trk=news-guest_share-update_comments-text</th>\n",
              "      <td>Remove PhotoorAlready on LinkedIn? Sign inLook...</td>\n",
              "    </tr>\n",
              "    <tr>\n",
              "      <th>https://www.linkedin.com/pulse/staff-absence-analysis-using-logistic-regression-khushboo-gehi?trk=news-guest_result-card_subtitle-click</th>\n",
              "      <td>Logistic regression is a supervised learning t...</td>\n",
              "    </tr>\n",
              "    <tr>\n",
              "      <th>https://www.linkedin.com/pulse/visual-representation-topic-clusters-part-2-khushboo-gehi?trk=news-guest_result-card_subtitle-click</th>\n",
              "      <td>This is a sequel of the article titled \"Visual...</td>\n",
              "    </tr>\n",
              "    <tr>\n",
              "      <th>https://www.linkedin.com/pulse/visual-representation-topic-clusters-part-1-khushboo-gehi?trk=news-guest_result-card_subtitle-click</th>\n",
              "      <td>Interactive visualizations of topic models are...</td>\n",
              "    </tr>\n",
              "  </tbody>\n",
              "</table>\n",
              "</div>\n",
              "      <button class=\"colab-df-convert\" onclick=\"convertToInteractive('df-2dba7183-98c6-4122-adce-a4aef22dfa7b')\"\n",
              "              title=\"Convert this dataframe to an interactive table.\"\n",
              "              style=\"display:none;\">\n",
              "        \n",
              "  <svg xmlns=\"http://www.w3.org/2000/svg\" height=\"24px\"viewBox=\"0 0 24 24\"\n",
              "       width=\"24px\">\n",
              "    <path d=\"M0 0h24v24H0V0z\" fill=\"none\"/>\n",
              "    <path d=\"M18.56 5.44l.94 2.06.94-2.06 2.06-.94-2.06-.94-.94-2.06-.94 2.06-2.06.94zm-11 1L8.5 8.5l.94-2.06 2.06-.94-2.06-.94L8.5 2.5l-.94 2.06-2.06.94zm10 10l.94 2.06.94-2.06 2.06-.94-2.06-.94-.94-2.06-.94 2.06-2.06.94z\"/><path d=\"M17.41 7.96l-1.37-1.37c-.4-.4-.92-.59-1.43-.59-.52 0-1.04.2-1.43.59L10.3 9.45l-7.72 7.72c-.78.78-.78 2.05 0 2.83L4 21.41c.39.39.9.59 1.41.59.51 0 1.02-.2 1.41-.59l7.78-7.78 2.81-2.81c.8-.78.8-2.07 0-2.86zM5.41 20L4 18.59l7.72-7.72 1.47 1.35L5.41 20z\"/>\n",
              "  </svg>\n",
              "      </button>\n",
              "      \n",
              "  <style>\n",
              "    .colab-df-container {\n",
              "      display:flex;\n",
              "      flex-wrap:wrap;\n",
              "      gap: 12px;\n",
              "    }\n",
              "\n",
              "    .colab-df-convert {\n",
              "      background-color: #E8F0FE;\n",
              "      border: none;\n",
              "      border-radius: 50%;\n",
              "      cursor: pointer;\n",
              "      display: none;\n",
              "      fill: #1967D2;\n",
              "      height: 32px;\n",
              "      padding: 0 0 0 0;\n",
              "      width: 32px;\n",
              "    }\n",
              "\n",
              "    .colab-df-convert:hover {\n",
              "      background-color: #E2EBFA;\n",
              "      box-shadow: 0px 1px 2px rgba(60, 64, 67, 0.3), 0px 1px 3px 1px rgba(60, 64, 67, 0.15);\n",
              "      fill: #174EA6;\n",
              "    }\n",
              "\n",
              "    [theme=dark] .colab-df-convert {\n",
              "      background-color: #3B4455;\n",
              "      fill: #D2E3FC;\n",
              "    }\n",
              "\n",
              "    [theme=dark] .colab-df-convert:hover {\n",
              "      background-color: #434B5C;\n",
              "      box-shadow: 0px 1px 3px 1px rgba(0, 0, 0, 0.15);\n",
              "      filter: drop-shadow(0px 1px 2px rgba(0, 0, 0, 0.3));\n",
              "      fill: #FFFFFF;\n",
              "    }\n",
              "  </style>\n",
              "\n",
              "      <script>\n",
              "        const buttonEl =\n",
              "          document.querySelector('#df-2dba7183-98c6-4122-adce-a4aef22dfa7b button.colab-df-convert');\n",
              "        buttonEl.style.display =\n",
              "          google.colab.kernel.accessAllowed ? 'block' : 'none';\n",
              "\n",
              "        async function convertToInteractive(key) {\n",
              "          const element = document.querySelector('#df-2dba7183-98c6-4122-adce-a4aef22dfa7b');\n",
              "          const dataTable =\n",
              "            await google.colab.kernel.invokeFunction('convertToInteractive',\n",
              "                                                     [key], {});\n",
              "          if (!dataTable) return;\n",
              "\n",
              "          const docLinkHtml = 'Like what you see? Visit the ' +\n",
              "            '<a target=\"_blank\" href=https://colab.research.google.com/notebooks/data_table.ipynb>data table notebook</a>'\n",
              "            + ' to learn more about interactive tables.';\n",
              "          element.innerHTML = '';\n",
              "          dataTable['output_type'] = 'display_data';\n",
              "          await google.colab.output.renderOutput(dataTable, element);\n",
              "          const docLink = document.createElement('div');\n",
              "          docLink.innerHTML = docLinkHtml;\n",
              "          element.appendChild(docLink);\n",
              "        }\n",
              "      </script>\n",
              "    </div>\n",
              "  </div>\n",
              "  "
            ],
            "text/plain": [
              "                                                                                       Extracted Text\n",
              "https://www.linkedin.com/signup/cold-join?trk=n...  Remove PhotoorAlready on LinkedIn? Sign inLook...\n",
              "https://www.linkedin.com/uas/login?fromSignIn=t...  Stay updated on your professional worldClick o...\n",
              "https://www.linkedin.com/signup/cold-join?sessi...  Remove PhotoorAlready on LinkedIn? Sign inLook...\n",
              "https://www.linkedin.com/signup/cold-join?sessi...  Remove PhotoorAlready on LinkedIn? Sign inLook...\n",
              "https://www.linkedin.com/signup/cold-join?sessi...  Remove PhotoorAlready on LinkedIn? Sign inLook...\n",
              "https://www.linkedin.com/pulse/not-so-perfect-c...  Chatbots are almost everywhere, most of us hav...\n",
              "https://www.linkedin.com/signup/cold-join?sessi...  Remove PhotoorAlready on LinkedIn? Sign inLook...\n",
              "https://www.linkedin.com/signup/cold-join?sessi...  Remove PhotoorAlready on LinkedIn? Sign inLook...\n",
              "https://www.linkedin.com/signup/cold-join?sessi...  Remove PhotoorAlready on LinkedIn? Sign inLook...\n",
              "https://www.linkedin.com/signup/cold-join?sessi...  Remove PhotoorAlready on LinkedIn? Sign inLook...\n",
              "https://www.linkedin.com/pulse/basic-face-detec...  Facial detection and recognition are commonly ...\n",
              "https://www.linkedin.com/pulse/time-series-anal...  Time series analysis can be implemented in mul...\n",
              "https://www.linkedin.com/pulse/using-lstm-navig...  Long Short-Term Memory networks or LSTMs are a...\n",
              "https://www.linkedin.com/pulse/churn-prediction...  Customer churn is essential in business as get...\n",
              "https://www.linkedin.com/signup/cold-join?sessi...  Remove PhotoorAlready on LinkedIn? Sign inLook...\n",
              "https://www.linkedin.com/pulse/staff-absence-an...  Logistic regression is a supervised learning t...\n",
              "https://www.linkedin.com/pulse/visual-represent...  This is a sequel of the article titled \"Visual...\n",
              "https://www.linkedin.com/pulse/visual-represent...  Interactive visualizations of topic models are..."
            ]
          },
          "metadata": {},
          "execution_count": 51
        }
      ]
    },
    {
      "cell_type": "code",
      "source": [
        ""
      ],
      "metadata": {
        "id": "HmgZ5mslMSHN"
      },
      "execution_count": null,
      "outputs": []
    }
  ]
}